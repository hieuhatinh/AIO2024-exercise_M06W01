{
  "cells": [
    {
      "cell_type": "markdown",
      "metadata": {
        "id": "mzoiFwtzhhQC"
      },
      "source": [
        "#### Tải bộ dữ liệu"
      ]
    },
    {
      "cell_type": "code",
      "execution_count": 1,
      "metadata": {
        "id": "NWchyn_QhhQF"
      },
      "outputs": [],
      "source": [
        "import os\n",
        "import random\n",
        "import time\n",
        "import numpy as np\n",
        "\n",
        "import torch\n",
        "import torch.nn as nn\n",
        "import torch.optim as optim\n",
        "import torch.nn.functional as F\n",
        "import torch.utils.data as data\n",
        "\n",
        "import torchvision.transforms as transforms\n",
        "import torchvision.datasets as datasets\n",
        "\n",
        "from torchsummary import summary\n",
        "\n",
        "\n",
        "import matplotlib.pyplot as plt\n",
        "from PIL import Image\n",
        "\n",
        "ROOT = './data'\n",
        "train_data = datasets.MNIST(\n",
        "    root=ROOT,\n",
        "    train=True,\n",
        "    download=True\n",
        ")\n",
        "test_data = datasets.MNIST(\n",
        "    root=ROOT,\n",
        "    train=False,\n",
        "    download=True\n",
        ")"
      ]
    },
    {
      "cell_type": "markdown",
      "metadata": {
        "id": "yoytuEAIhhQH"
      },
      "source": [
        "#### Tiền xử lý dữ liệu"
      ]
    },
    {
      "cell_type": "code",
      "execution_count": 2,
      "metadata": {
        "id": "E2Gk2tPdhhQI"
      },
      "outputs": [],
      "source": [
        "# split training: validation = 0.9:0.1\n",
        "VALID_RARIO = 0.9\n",
        "\n",
        "n_train_examples = int(len(train_data) * VALID_RARIO)\n",
        "n_valid_examples = len(train_data) - n_train_examples\n",
        "\n",
        "train_data, valid_data = data.random_split(\n",
        "    train_data,\n",
        "    [n_train_examples, n_valid_examples]\n",
        ")\n",
        "\n",
        "# compute mean and std for normalization\n",
        "mean = train_data.dataset.data.float().mean() / 255\n",
        "std = train_data.dataset.data.float().std() / 255\n",
        "\n",
        "train_transforms = transforms.Compose([\n",
        "    transforms.ToTensor(),\n",
        "    transforms.Normalize(mean=[mean], std=[std])\n",
        "])\n",
        "test_transforms = transforms.Compose([\n",
        "    transforms.ToTensor(),\n",
        "    transforms.Normalize(mean=[mean], std=[std])\n",
        "])\n",
        "\n",
        "train_data.dataset.transform = train_transforms\n",
        "valid_data.dataset.transform = test_transforms\n",
        "\n",
        "# create dataloader\n",
        "BATCH_SIZE = 256\n",
        "\n",
        "train_dataloader = data.DataLoader(\n",
        "    train_data,\n",
        "    shuffle=True,\n",
        "    batch_size=BATCH_SIZE,\n",
        "    num_workers=0\n",
        ")\n",
        "valid_dataloader = data.DataLoader(\n",
        "    valid_data,\n",
        "    batch_size=BATCH_SIZE,\n",
        "    num_workers=0\n",
        ")"
      ]
    },
    {
      "cell_type": "markdown",
      "metadata": {
        "id": "RaGfW31JhhQI"
      },
      "source": [
        "#### Xây dựng mô hình LeNet"
      ]
    },
    {
      "cell_type": "code",
      "execution_count": 3,
      "metadata": {
        "id": "Ek0X3PSshhQI"
      },
      "outputs": [],
      "source": [
        "class LeNetClassifier(nn.Module):\n",
        "    def __init__(self, num_classes):\n",
        "        super().__init__()\n",
        "        self.conv1 = nn.Conv2d(\n",
        "            in_channels=1,\n",
        "            out_channels=6,\n",
        "            kernel_size=5,\n",
        "            padding='same'\n",
        "        )\n",
        "        self.avgpool1 = nn.AvgPool2d(kernel_size=2)\n",
        "        self.conv2 = nn.Conv2d(\n",
        "            in_channels=6,\n",
        "            out_channels=16,\n",
        "            kernel_size=5\n",
        "        )\n",
        "        self.avgpool2 = nn.AvgPool2d(kernel_size=2)\n",
        "        self.flatten = nn.Flatten()\n",
        "        self.fc_1 = nn.Linear(16 * 5 * 5, 120)\n",
        "        self.fc_2 = nn.Linear(120, 84)\n",
        "        self.fc_3 = nn.Linear(84, num_classes)\n",
        "\n",
        "    def forward(self, inputs):\n",
        "        outputs = self.conv1(inputs)\n",
        "        outputs = self.avgpool1(outputs)\n",
        "        outputs = F.relu(outputs)\n",
        "        outputs = self.conv2(outputs)\n",
        "        outputs = self.avgpool2(outputs)\n",
        "        outputs = F.relu(outputs)\n",
        "        outputs = self.flatten(outputs)\n",
        "        outputs = self.fc_1(outputs)\n",
        "        outputs = self.fc_2(outputs)\n",
        "        outputs = self.fc_3(outputs)\n",
        "        return outputs"
      ]
    },
    {
      "cell_type": "markdown",
      "metadata": {
        "id": "mvNhnwurhhQI"
      },
      "source": [
        "#### Huấn luyện mô hình"
      ]
    },
    {
      "cell_type": "code",
      "execution_count": 4,
      "metadata": {
        "id": "xq_Lh-S8hhQJ"
      },
      "outputs": [],
      "source": [
        "def train(model, optimizer, criterion, train_dataloader, device, epoch=0, log_interval=50):\n",
        "    model.train()\n",
        "    total_acc, total_count = 0, 0\n",
        "    losses = []\n",
        "    start_time = time.time()\n",
        "\n",
        "    for idx, (inputs, labels) in enumerate(train_dataloader):\n",
        "        inputs = inputs.to(device)\n",
        "        labels = labels.to(device)\n",
        "\n",
        "        optimizer.zero_grad()\n",
        "\n",
        "        predictions = model(inputs)\n",
        "\n",
        "        # compute loss\n",
        "        loss = criterion(predictions, labels)\n",
        "        losses.append(loss.item())\n",
        "\n",
        "        # backward\n",
        "        loss.backward()\n",
        "        torch.nn.utils.clip_grad_norm_(model.parameters(), 0.1)\n",
        "        optimizer.step()\n",
        "        total_acc += (predictions.argmax(1) == labels).sum().item()\n",
        "        total_count += labels.size(0)\n",
        "        if idx % log_interval == 0 and idx > 0:\n",
        "            elapsed = time.time() - start_time\n",
        "            print('| epoch {:3d} | {:5d}/{:5d} batches'\n",
        "                  '| accuracy {:8.3f}'.format(\n",
        "                      epoch, idx, len(train_dataloader), total_acc / total_count\n",
        "                  ))\n",
        "            total_acc, total_count = 0, 0\n",
        "            start_time = time.time()\n",
        "    epoch_acc = total_acc / total_count\n",
        "    epoch_loss = sum(losses) / len(losses)\n",
        "    return epoch_acc, epoch_loss\n",
        "\n",
        "\n",
        "# Evaludation funcction\n",
        "def evaluate(model, criterion, valid_dataloader, device):\n",
        "    model.eval()\n",
        "    total_acc, total_count = 0, 0\n",
        "    losses = []\n",
        "\n",
        "    with torch.no_grad():\n",
        "        for idx, (inputs, lables) in enumerate(valid_dataloader):\n",
        "            inputs = inputs.to(device)\n",
        "            labels = lables.to(device)\n",
        "\n",
        "            predictions = model(inputs)\n",
        "\n",
        "            loss = criterion(predictions, labels)\n",
        "            losses.append(loss.item())\n",
        "\n",
        "            total_acc += (predictions.argmax(1) == labels).sum().item()\n",
        "            total_count += labels.size(0)\n",
        "\n",
        "    epoch_acc = total_acc / total_count\n",
        "    epoch_loss = sum(losses) / len(losses)\n",
        "    return epoch_acc, epoch_loss"
      ]
    },
    {
      "cell_type": "code",
      "execution_count": 5,
      "metadata": {
        "colab": {
          "base_uri": "https://localhost:8080/"
        },
        "id": "SSv2RqblhhQJ",
        "outputId": "fd4006b4-a229-4138-fb4a-27f383cfc826"
      },
      "outputs": [
        {
          "name": "stdout",
          "output_type": "stream",
          "text": [
            "| epoch   1 |    50/  211 batches| accuracy    0.690\n",
            "| epoch   1 |   100/  211 batches| accuracy    0.882\n",
            "| epoch   1 |   150/  211 batches| accuracy    0.912\n",
            "| epoch   1 |   200/  211 batches| accuracy    0.937\n",
            "-----------------------------------------------------------\n",
            "| End of epoch   1 | Time: 20.43s | Train Accuracy    0.949 | Train Loss    0.488 | Valid Accuracy    0.948 | Valid Loss    0.182 \n",
            "-----------------------------------------------------------\n"
          ]
        },
        {
          "name": "stderr",
          "output_type": "stream",
          "text": [
            "C:\\Users\\FPTSHOP\\AppData\\Local\\Temp\\ipykernel_1968\\3088716186.py:50: FutureWarning: You are using `torch.load` with `weights_only=False` (the current default value), which uses the default pickle module implicitly. It is possible to construct malicious pickle data which will execute arbitrary code during unpickling (See https://github.com/pytorch/pytorch/blob/main/SECURITY.md#untrusted-models for more details). In a future release, the default value for `weights_only` will be flipped to `True`. This limits the functions that could be executed during unpickling. Arbitrary objects will no longer be allowed to be loaded via this mode unless they are explicitly allowlisted by the user via `torch.serialization.add_safe_globals`. We recommend you start setting `weights_only=True` for any use case where you don't have full control of the loaded file. Please open an issue on GitHub for any issues related to this experimental feature.\n",
            "  lenet_model.load_state_dict(torch.load(save_model + '/lenet_model_[mnist_dataset].pt'))\n"
          ]
        },
        {
          "name": "stdout",
          "output_type": "stream",
          "text": [
            "| epoch   2 |    50/  211 batches| accuracy    0.954\n",
            "| epoch   2 |   100/  211 batches| accuracy    0.963\n",
            "| epoch   2 |   150/  211 batches| accuracy    0.964\n",
            "| epoch   2 |   200/  211 batches| accuracy    0.969\n",
            "-----------------------------------------------------------\n",
            "| End of epoch   2 | Time: 16.27s | Train Accuracy    0.967 | Train Loss    0.126 | Valid Accuracy    0.968 | Valid Loss    0.107 \n",
            "-----------------------------------------------------------\n",
            "| epoch   3 |    50/  211 batches| accuracy    0.970\n",
            "| epoch   3 |   100/  211 batches| accuracy    0.973\n",
            "| epoch   3 |   150/  211 batches| accuracy    0.973\n",
            "| epoch   3 |   200/  211 batches| accuracy    0.974\n",
            "-----------------------------------------------------------\n",
            "| End of epoch   3 | Time: 15.47s | Train Accuracy    0.970 | Train Loss    0.090 | Valid Accuracy    0.962 | Valid Loss    0.116 \n",
            "-----------------------------------------------------------\n",
            "| epoch   4 |    50/  211 batches| accuracy    0.975\n",
            "| epoch   4 |   100/  211 batches| accuracy    0.977\n",
            "| epoch   4 |   150/  211 batches| accuracy    0.977\n",
            "| epoch   4 |   200/  211 batches| accuracy    0.977\n",
            "-----------------------------------------------------------\n",
            "| End of epoch   4 | Time: 16.73s | Train Accuracy    0.982 | Train Loss    0.076 | Valid Accuracy    0.976 | Valid Loss    0.077 \n",
            "-----------------------------------------------------------\n",
            "| epoch   5 |    50/  211 batches| accuracy    0.980\n",
            "| epoch   5 |   100/  211 batches| accuracy    0.981\n",
            "| epoch   5 |   150/  211 batches| accuracy    0.979\n",
            "| epoch   5 |   200/  211 batches| accuracy    0.979\n",
            "-----------------------------------------------------------\n",
            "| End of epoch   5 | Time: 18.33s | Train Accuracy    0.982 | Train Loss    0.065 | Valid Accuracy    0.980 | Valid Loss    0.065 \n",
            "-----------------------------------------------------------\n",
            "| epoch   6 |    50/  211 batches| accuracy    0.982\n",
            "| epoch   6 |   100/  211 batches| accuracy    0.980\n",
            "| epoch   6 |   150/  211 batches| accuracy    0.983\n",
            "| epoch   6 |   200/  211 batches| accuracy    0.981\n",
            "-----------------------------------------------------------\n",
            "| End of epoch   6 | Time: 18.02s | Train Accuracy    0.981 | Train Loss    0.059 | Valid Accuracy    0.979 | Valid Loss    0.066 \n",
            "-----------------------------------------------------------\n",
            "| epoch   7 |    50/  211 batches| accuracy    0.984\n",
            "| epoch   7 |   100/  211 batches| accuracy    0.985\n",
            "| epoch   7 |   150/  211 batches| accuracy    0.984\n",
            "| epoch   7 |   200/  211 batches| accuracy    0.984\n",
            "-----------------------------------------------------------\n",
            "| End of epoch   7 | Time: 17.26s | Train Accuracy    0.986 | Train Loss    0.053 | Valid Accuracy    0.979 | Valid Loss    0.067 \n",
            "-----------------------------------------------------------\n",
            "| epoch   8 |    50/  211 batches| accuracy    0.987\n",
            "| epoch   8 |   100/  211 batches| accuracy    0.986\n",
            "| epoch   8 |   150/  211 batches| accuracy    0.984\n",
            "| epoch   8 |   200/  211 batches| accuracy    0.984\n",
            "-----------------------------------------------------------\n",
            "| End of epoch   8 | Time: 16.85s | Train Accuracy    0.985 | Train Loss    0.048 | Valid Accuracy    0.978 | Valid Loss    0.071 \n",
            "-----------------------------------------------------------\n",
            "| epoch   9 |    50/  211 batches| accuracy    0.984\n",
            "| epoch   9 |   100/  211 batches| accuracy    0.985\n",
            "| epoch   9 |   150/  211 batches| accuracy    0.986\n",
            "| epoch   9 |   200/  211 batches| accuracy    0.987\n",
            "-----------------------------------------------------------\n",
            "| End of epoch   9 | Time: 18.46s | Train Accuracy    0.985 | Train Loss    0.047 | Valid Accuracy    0.982 | Valid Loss    0.057 \n",
            "-----------------------------------------------------------\n",
            "| epoch  10 |    50/  211 batches| accuracy    0.985\n",
            "| epoch  10 |   100/  211 batches| accuracy    0.985\n",
            "| epoch  10 |   150/  211 batches| accuracy    0.986\n",
            "| epoch  10 |   200/  211 batches| accuracy    0.987\n",
            "-----------------------------------------------------------\n",
            "| End of epoch  10 | Time: 22.51s | Train Accuracy    0.984 | Train Loss    0.044 | Valid Accuracy    0.985 | Valid Loss    0.052 \n",
            "-----------------------------------------------------------\n"
          ]
        }
      ],
      "source": [
        "num_classes = len(train_data.dataset.classes)\n",
        "\n",
        "device = torch.device('cuda' if torch.cuda.is_available() else 'cpu')\n",
        "\n",
        "lenet_model = LeNetClassifier(num_classes)\n",
        "lenet_model.to(device)\n",
        "\n",
        "criterion = torch.nn.CrossEntropyLoss()\n",
        "optimizer = optim.Adam(lenet_model.parameters(), lr=0.001, weight_decay=0)\n",
        "\n",
        "num_epochs = 10\n",
        "save_model = '../weights'\n",
        "\n",
        "train_accs, train_losses = [], []\n",
        "eval_accs, eval_losses = [], []\n",
        "best_loss_eval = 100\n",
        "\n",
        "for epoch in range(1, num_epochs+1):\n",
        "    epoch_start_time = time.time()\n",
        "    # Training\n",
        "    train_acc, train_loss = train(model=lenet_model,\n",
        "                                  optimizer=optimizer,\n",
        "                                  criterion=criterion,\n",
        "                                  train_dataloader=train_dataloader,\n",
        "                                  device=device,\n",
        "                                  epoch=epoch)\n",
        "    train_accs.append(train_acc)\n",
        "    train_losses.append(train_loss)\n",
        "\n",
        "    # Evaluation\n",
        "    eval_acc, eval_loss = evaluate(model=lenet_model,\n",
        "                                   criterion=criterion,\n",
        "                                   valid_dataloader=valid_dataloader,\n",
        "                                   device=device)\n",
        "    eval_accs.append(eval_acc)\n",
        "    eval_losses.append(eval_loss)\n",
        "\n",
        "    # Save best model\n",
        "    if eval_loss < best_loss_eval:\n",
        "        torch.save(lenet_model.state_dict(), save_model + '/lenet_model_[mnist_dataset].pt')\n",
        "\n",
        "    # Print loss, acc end epoch\n",
        "    print('-'* 59)\n",
        "    print(\n",
        "        '| End of epoch {:3d} | Time: {:5.2f}s | Train Accuracy {:8.3f} | Train Loss {:8.3f} '\n",
        "        '| Valid Accuracy {:8.3f} | Valid Loss {:8.3f} '.format(epoch, time.time() - epoch_start_time, train_acc, train_loss, eval_acc, eval_loss)\n",
        "    )\n",
        "    print('-'* 59)\n",
        "\n",
        "    # Load best model\n",
        "    lenet_model.load_state_dict(torch.load(save_model + '/lenet_model_[mnist_dataset].pt'))\n",
        "    lenet_model.eval()"
      ]
    },
    {
      "cell_type": "markdown",
      "metadata": {
        "id": "y6VrLlOEhhQJ"
      },
      "source": [
        "#### Đánh giá mô hình trên tập test"
      ]
    },
    {
      "cell_type": "code",
      "execution_count": 6,
      "metadata": {
        "colab": {
          "base_uri": "https://localhost:8080/"
        },
        "id": "Bj11aMiDhhQJ",
        "outputId": "745e16e8-0fe2-4ed8-f8d6-62c00b53f5cf"
      },
      "outputs": [
        {
          "data": {
            "text/plain": [
              "(0.9859, 0.04435783763019572)"
            ]
          },
          "execution_count": 6,
          "metadata": {},
          "output_type": "execute_result"
        }
      ],
      "source": [
        "test_data.transform = test_transforms\n",
        "test_dataloader = data.DataLoader(\n",
        "    test_data,\n",
        "    batch_size=BATCH_SIZE,\n",
        "    num_workers=0\n",
        ")\n",
        "test_acc, test_loss = evaluate(lenet_model, criterion, test_dataloader, device)\n",
        "test_acc, test_loss"
      ]
    }
  ],
  "metadata": {
    "colab": {
      "provenance": []
    },
    "kernelspec": {
      "display_name": "Python 3",
      "name": "python3"
    },
    "language_info": {
      "codemirror_mode": {
        "name": "ipython",
        "version": 3
      },
      "file_extension": ".py",
      "mimetype": "text/x-python",
      "name": "python",
      "nbconvert_exporter": "python",
      "pygments_lexer": "ipython3",
      "version": "3.11.9"
    }
  },
  "nbformat": 4,
  "nbformat_minor": 0
}
